{
 "cells": [
  {
   "cell_type": "code",
   "execution_count": 1,
   "metadata": {
    "collapsed": true
   },
   "outputs": [],
   "source": [
    "from download import request\n",
    "from bs4 import BeautifulSoup"
   ]
  },
  {
   "cell_type": "code",
   "execution_count": 37,
   "metadata": {
    "collapsed": false
   },
   "outputs": [
    {
     "name": "stdout",
     "output_type": "stream",
     "text": [
      "开始获取： http://t66y.com/htm_data/16/1612/2159948.html\n"
     ]
    }
   ],
   "source": [
    "response = request.simple_get('http://t66y.com/htm_data/16/1612/2159948.html')"
   ]
  },
  {
   "cell_type": "code",
   "execution_count": 60,
   "metadata": {
    "collapsed": false
   },
   "outputs": [
    {
     "name": "stdout",
     "output_type": "stream",
     "text": [
      "[原創投稿][達蓋爾先鋒團榮譽出品]夜场公主坚持卖艺不卖身，在嫖圣一掷千金后乖乖出台[22P]\n"
     ]
    }
   ],
   "source": [
    "response.encoding='gb18030'\n",
    "#title = BeautifulSoup(response.text,\"lxml\").find(\"div\",class_=\"t3\").find(\"b\")\n",
    "\n",
    "title = BeautifulSoup(response.text,\"lxml\").find(\"h4\")\n",
    "path = title.string.replace(\"?\",\"_\").strip()\n",
    "print(path)\n",
    "# print(title.string)\n",
    "# for sting in title.stripped_strings:\n",
    "#     print(repr(sting))\n",
    "# print(title)"
   ]
  },
  {
   "cell_type": "code",
   "execution_count": 62,
   "metadata": {
    "collapsed": false
   },
   "outputs": [
    {
     "name": "stdout",
     "output_type": "stream",
     "text": [
      "create folder named:  [原創投稿][達蓋爾先鋒團榮譽出品]夜场公主坚持卖艺不卖身，在嫖圣一掷千金后乖乖出台[22P]\n"
     ]
    }
   ],
   "source": [
    "import os\n",
    "img_fold_url = 'D:\\meizi'\n",
    "isExists = os.path.exists(os.path.join(img_fold_url,path))\n",
    "if not isExists:\n",
    "    print(\"create folder named: \",path)\n",
    "    os.mkdir(os.path.join(img_fold_url,path))\n",
    "else:\n",
    "    print(\"folder \",path,\" already exits!\")"
   ]
  },
  {
   "cell_type": "code",
   "execution_count": 9,
   "metadata": {
    "collapsed": false
   },
   "outputs": [
    {
     "name": "stdout",
     "output_type": "stream",
     "text": [
      "<title>[Ô­Í¶¸å][ß_Éw ÏÈähFs×u³öÆ·]Ò¹³¡¹«Ö÷¼á³ÖÂôÒÕ²»ÂôÉí£¬ÔÚæÎÊ¥Ò»ÖÀÇ§½ðºó¹Ô¹Ô³öÌ¨[22P]  ²ÝÁñÉç",
      "^  - powered by phpwind.net</title>\n"
     ]
    }
   ],
   "source": []
  },
  {
   "cell_type": "code",
   "execution_count": null,
   "metadata": {
    "collapsed": true
   },
   "outputs": [],
   "source": []
  }
 ],
 "metadata": {
  "kernelspec": {
   "display_name": "Python [Root]",
   "language": "python",
   "name": "Python [Root]"
  },
  "language_info": {
   "codemirror_mode": {
    "name": "ipython",
    "version": 3
   },
   "file_extension": ".py",
   "mimetype": "text/x-python",
   "name": "python",
   "nbconvert_exporter": "python",
   "pygments_lexer": "ipython3",
   "version": "3.5.2"
  }
 },
 "nbformat": 4,
 "nbformat_minor": 0
}
